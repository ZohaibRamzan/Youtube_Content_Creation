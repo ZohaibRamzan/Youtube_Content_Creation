{
  "nbformat": 4,
  "nbformat_minor": 0,
  "metadata": {
    "colab": {
      "provenance": []
    },
    "kernelspec": {
      "name": "python3",
      "display_name": "Python 3"
    },
    "language_info": {
      "name": "python"
    }
  },
  "cells": [
    {
      "cell_type": "code",
      "source": [
        "from google.colab import drive\n",
        "drive.mount('/content/drive')"
      ],
      "metadata": {
        "colab": {
          "base_uri": "https://localhost:8080/"
        },
        "id": "1-WMaxd2cAza",
        "outputId": "e8c12c25-e3c5-4b2d-aa1e-9e990ef6fb44"
      },
      "execution_count": null,
      "outputs": [
        {
          "output_type": "stream",
          "name": "stdout",
          "text": [
            "Mounted at /content/drive\n"
          ]
        }
      ]
    },
    {
      "cell_type": "code",
      "source": [
        "!pip install langchain -U\n",
        "!pip install openai\n",
        "!pip install pymysql\n",
        "!pip install python-dotenv"
      ],
      "metadata": {
        "colab": {
          "base_uri": "https://localhost:8080/"
        },
        "id": "303bd8u-1qTm",
        "outputId": "e2b7d0c4-eb4d-48ac-b02f-b25b2a2cbc5d"
      },
      "execution_count": null,
      "outputs": [
        {
          "output_type": "stream",
          "name": "stdout",
          "text": [
            "Looking in indexes: https://pypi.org/simple, https://us-python.pkg.dev/colab-wheels/public/simple/\n",
            "Collecting langchain\n",
            "  Downloading langchain-0.0.216-py3-none-any.whl (1.1 MB)\n",
            "\u001b[2K     \u001b[90m━━━━━━━━━━━━━━━━━━━━━━━━━━━━━━━━━━━━━━━━\u001b[0m \u001b[32m1.1/1.1 MB\u001b[0m \u001b[31m20.7 MB/s\u001b[0m eta \u001b[36m0:00:00\u001b[0m\n",
            "\u001b[?25hRequirement already satisfied: PyYAML>=5.4.1 in /usr/local/lib/python3.10/dist-packages (from langchain) (6.0)\n",
            "Requirement already satisfied: SQLAlchemy<3,>=1.4 in /usr/local/lib/python3.10/dist-packages (from langchain) (2.0.16)\n",
            "Requirement already satisfied: aiohttp<4.0.0,>=3.8.3 in /usr/local/lib/python3.10/dist-packages (from langchain) (3.8.4)\n",
            "Requirement already satisfied: async-timeout<5.0.0,>=4.0.0 in /usr/local/lib/python3.10/dist-packages (from langchain) (4.0.2)\n",
            "Collecting dataclasses-json<0.6.0,>=0.5.7 (from langchain)\n",
            "  Downloading dataclasses_json-0.5.8-py3-none-any.whl (26 kB)\n",
            "Collecting langchainplus-sdk>=0.0.17 (from langchain)\n",
            "  Downloading langchainplus_sdk-0.0.17-py3-none-any.whl (25 kB)\n",
            "Requirement already satisfied: numexpr<3.0.0,>=2.8.4 in /usr/local/lib/python3.10/dist-packages (from langchain) (2.8.4)\n",
            "Requirement already satisfied: numpy<2,>=1 in /usr/local/lib/python3.10/dist-packages (from langchain) (1.22.4)\n",
            "Collecting openapi-schema-pydantic<2.0,>=1.2 (from langchain)\n",
            "  Downloading openapi_schema_pydantic-1.2.4-py3-none-any.whl (90 kB)\n",
            "\u001b[2K     \u001b[90m━━━━━━━━━━━━━━━━━━━━━━━━━━━━━━━━━━━━━━━━\u001b[0m \u001b[32m90.0/90.0 kB\u001b[0m \u001b[31m11.0 MB/s\u001b[0m eta \u001b[36m0:00:00\u001b[0m\n",
            "\u001b[?25hRequirement already satisfied: pydantic<2,>=1 in /usr/local/lib/python3.10/dist-packages (from langchain) (1.10.9)\n",
            "Requirement already satisfied: requests<3,>=2 in /usr/local/lib/python3.10/dist-packages (from langchain) (2.27.1)\n",
            "Requirement already satisfied: tenacity<9.0.0,>=8.1.0 in /usr/local/lib/python3.10/dist-packages (from langchain) (8.2.2)\n",
            "Requirement already satisfied: attrs>=17.3.0 in /usr/local/lib/python3.10/dist-packages (from aiohttp<4.0.0,>=3.8.3->langchain) (23.1.0)\n",
            "Requirement already satisfied: charset-normalizer<4.0,>=2.0 in /usr/local/lib/python3.10/dist-packages (from aiohttp<4.0.0,>=3.8.3->langchain) (2.0.12)\n",
            "Requirement already satisfied: multidict<7.0,>=4.5 in /usr/local/lib/python3.10/dist-packages (from aiohttp<4.0.0,>=3.8.3->langchain) (6.0.4)\n",
            "Requirement already satisfied: yarl<2.0,>=1.0 in /usr/local/lib/python3.10/dist-packages (from aiohttp<4.0.0,>=3.8.3->langchain) (1.9.2)\n",
            "Requirement already satisfied: frozenlist>=1.1.1 in /usr/local/lib/python3.10/dist-packages (from aiohttp<4.0.0,>=3.8.3->langchain) (1.3.3)\n",
            "Requirement already satisfied: aiosignal>=1.1.2 in /usr/local/lib/python3.10/dist-packages (from aiohttp<4.0.0,>=3.8.3->langchain) (1.3.1)\n",
            "Collecting marshmallow<4.0.0,>=3.3.0 (from dataclasses-json<0.6.0,>=0.5.7->langchain)\n",
            "  Downloading marshmallow-3.19.0-py3-none-any.whl (49 kB)\n",
            "\u001b[2K     \u001b[90m━━━━━━━━━━━━━━━━━━━━━━━━━━━━━━━━━━━━━━━━\u001b[0m \u001b[32m49.1/49.1 kB\u001b[0m \u001b[31m7.6 MB/s\u001b[0m eta \u001b[36m0:00:00\u001b[0m\n",
            "\u001b[?25hCollecting marshmallow-enum<2.0.0,>=1.5.1 (from dataclasses-json<0.6.0,>=0.5.7->langchain)\n",
            "  Downloading marshmallow_enum-1.5.1-py2.py3-none-any.whl (4.2 kB)\n",
            "Collecting typing-inspect>=0.4.0 (from dataclasses-json<0.6.0,>=0.5.7->langchain)\n",
            "  Downloading typing_inspect-0.9.0-py3-none-any.whl (8.8 kB)\n",
            "Requirement already satisfied: typing-extensions>=4.2.0 in /usr/local/lib/python3.10/dist-packages (from pydantic<2,>=1->langchain) (4.6.3)\n",
            "Requirement already satisfied: urllib3<1.27,>=1.21.1 in /usr/local/lib/python3.10/dist-packages (from requests<3,>=2->langchain) (1.26.16)\n",
            "Requirement already satisfied: certifi>=2017.4.17 in /usr/local/lib/python3.10/dist-packages (from requests<3,>=2->langchain) (2023.5.7)\n",
            "Requirement already satisfied: idna<4,>=2.5 in /usr/local/lib/python3.10/dist-packages (from requests<3,>=2->langchain) (3.4)\n",
            "Requirement already satisfied: greenlet!=0.4.17 in /usr/local/lib/python3.10/dist-packages (from SQLAlchemy<3,>=1.4->langchain) (2.0.2)\n",
            "Requirement already satisfied: packaging>=17.0 in /usr/local/lib/python3.10/dist-packages (from marshmallow<4.0.0,>=3.3.0->dataclasses-json<0.6.0,>=0.5.7->langchain) (23.1)\n",
            "Collecting mypy-extensions>=0.3.0 (from typing-inspect>=0.4.0->dataclasses-json<0.6.0,>=0.5.7->langchain)\n",
            "  Downloading mypy_extensions-1.0.0-py3-none-any.whl (4.7 kB)\n",
            "Installing collected packages: mypy-extensions, marshmallow, typing-inspect, openapi-schema-pydantic, marshmallow-enum, langchainplus-sdk, dataclasses-json, langchain\n",
            "Successfully installed dataclasses-json-0.5.8 langchain-0.0.216 langchainplus-sdk-0.0.17 marshmallow-3.19.0 marshmallow-enum-1.5.1 mypy-extensions-1.0.0 openapi-schema-pydantic-1.2.4 typing-inspect-0.9.0\n",
            "Looking in indexes: https://pypi.org/simple, https://us-python.pkg.dev/colab-wheels/public/simple/\n",
            "Collecting openai\n",
            "  Downloading openai-0.27.8-py3-none-any.whl (73 kB)\n",
            "\u001b[2K     \u001b[90m━━━━━━━━━━━━━━━━━━━━━━━━━━━━━━━━━━━━━━━━\u001b[0m \u001b[32m73.6/73.6 kB\u001b[0m \u001b[31m3.5 MB/s\u001b[0m eta \u001b[36m0:00:00\u001b[0m\n",
            "\u001b[?25hRequirement already satisfied: requests>=2.20 in /usr/local/lib/python3.10/dist-packages (from openai) (2.27.1)\n",
            "Requirement already satisfied: tqdm in /usr/local/lib/python3.10/dist-packages (from openai) (4.65.0)\n",
            "Requirement already satisfied: aiohttp in /usr/local/lib/python3.10/dist-packages (from openai) (3.8.4)\n",
            "Requirement already satisfied: urllib3<1.27,>=1.21.1 in /usr/local/lib/python3.10/dist-packages (from requests>=2.20->openai) (1.26.16)\n",
            "Requirement already satisfied: certifi>=2017.4.17 in /usr/local/lib/python3.10/dist-packages (from requests>=2.20->openai) (2023.5.7)\n",
            "Requirement already satisfied: charset-normalizer~=2.0.0 in /usr/local/lib/python3.10/dist-packages (from requests>=2.20->openai) (2.0.12)\n",
            "Requirement already satisfied: idna<4,>=2.5 in /usr/local/lib/python3.10/dist-packages (from requests>=2.20->openai) (3.4)\n",
            "Requirement already satisfied: attrs>=17.3.0 in /usr/local/lib/python3.10/dist-packages (from aiohttp->openai) (23.1.0)\n",
            "Requirement already satisfied: multidict<7.0,>=4.5 in /usr/local/lib/python3.10/dist-packages (from aiohttp->openai) (6.0.4)\n",
            "Requirement already satisfied: async-timeout<5.0,>=4.0.0a3 in /usr/local/lib/python3.10/dist-packages (from aiohttp->openai) (4.0.2)\n",
            "Requirement already satisfied: yarl<2.0,>=1.0 in /usr/local/lib/python3.10/dist-packages (from aiohttp->openai) (1.9.2)\n",
            "Requirement already satisfied: frozenlist>=1.1.1 in /usr/local/lib/python3.10/dist-packages (from aiohttp->openai) (1.3.3)\n",
            "Requirement already satisfied: aiosignal>=1.1.2 in /usr/local/lib/python3.10/dist-packages (from aiohttp->openai) (1.3.1)\n",
            "Installing collected packages: openai\n",
            "Successfully installed openai-0.27.8\n",
            "Looking in indexes: https://pypi.org/simple, https://us-python.pkg.dev/colab-wheels/public/simple/\n",
            "Collecting pymysql\n",
            "  Downloading PyMySQL-1.1.0-py3-none-any.whl (44 kB)\n",
            "\u001b[2K     \u001b[90m━━━━━━━━━━━━━━━━━━━━━━━━━━━━━━━━━━━━━━━━\u001b[0m \u001b[32m44.8/44.8 kB\u001b[0m \u001b[31m2.3 MB/s\u001b[0m eta \u001b[36m0:00:00\u001b[0m\n",
            "\u001b[?25hInstalling collected packages: pymysql\n",
            "Successfully installed pymysql-1.1.0\n",
            "Looking in indexes: https://pypi.org/simple, https://us-python.pkg.dev/colab-wheels/public/simple/\n",
            "Collecting python-dotenv\n",
            "  Downloading python_dotenv-1.0.0-py3-none-any.whl (19 kB)\n",
            "Installing collected packages: python-dotenv\n",
            "Successfully installed python-dotenv-1.0.0\n"
          ]
        }
      ]
    },
    {
      "cell_type": "code",
      "source": [
        "from langchain import OpenAI, ConversationChain, LLMChain, PromptTemplate\n",
        "from langchain.memory import ConversationBufferWindowMemory\n",
        "from langchain.llms import AzureOpenAI\n",
        "from langchain.memory import ConversationEntityMemory\n",
        "from langchain.memory import ConversationBufferMemory,ConversationBufferWindowMemory,ConversationSummaryMemory\n",
        "from dotenv import load_dotenv\n",
        "import time\n",
        "import os\n",
        "import openai\n",
        "\n",
        "load_dotenv('/content/drive/MyDrive/vars.env')\n",
        "os.environ[\"OPENAI_API_KEY\"] = os.getenv('api_key')"
      ],
      "metadata": {
        "id": "HoNP-u_icGRE"
      },
      "execution_count": null,
      "outputs": []
    },
    {
      "cell_type": "code",
      "source": [
        "from urllib.parse import quote_plus\n",
        "from langchain import OpenAI, SQLDatabase, SQLDatabaseChain\n",
        "user=os.getenv('user_name')\n",
        "password=quote_plus(os.getenv('password'))\n",
        "endpoint_url=os.getenv('endpoint_url')\n",
        "database=os.getenv('database')\n",
        "table_name=str(os.getenv('table_name'))\n",
        "\n",
        "#database_uri\n",
        "db_uri = f\"mysql+pymysql://{user}:{password}@{endpoint_url}/{database}\"\n",
        "\n",
        "# make connection with sql server\n",
        "db = SQLDatabase.from_uri(db_uri, include_tables=[table_name])\n",
        "llm = OpenAI(temperature=0, verbose=True)"
      ],
      "metadata": {
        "id": "uLfh_zpIc7nE"
      },
      "execution_count": null,
      "outputs": []
    },
    {
      "cell_type": "code",
      "source": [
        "memory = ConversationBufferWindowMemory(k=5)\n",
        "db_chain = SQLDatabaseChain.from_llm(llm, db ,  memory=memory, verbose=True, top_k=5 )"
      ],
      "metadata": {
        "id": "BeqzpiyhdIHR"
      },
      "execution_count": null,
      "outputs": []
    },
    {
      "cell_type": "code",
      "source": [
        "\n",
        "query=\"Tell me about the price of property located at 24 hilllbank \"\n",
        "db_chain.run(query)"
      ],
      "metadata": {
        "colab": {
          "base_uri": "https://localhost:8080/",
          "height": 174
        },
        "id": "peMjHKEwL2O5",
        "outputId": "94b93d28-2547-47a2-afb4-cd9321eb712d"
      },
      "execution_count": null,
      "outputs": [
        {
          "output_type": "stream",
          "name": "stdout",
          "text": [
            "\n",
            "\n",
            "\u001b[1m> Entering new  chain...\u001b[0m\n",
            "Tell me about the price of property located at 24 hilllbank \n",
            "SQLQuery:\u001b[32;1m\u001b[1;3mSELECT current_price FROM last_listings_new WHERE addr_strt_name = 'HILLBANK' AND addr_streetnum = '24';\u001b[0m\n",
            "SQLResult: \u001b[33;1m\u001b[1;3m[(Decimal('192900.00000'),)]\u001b[0m\n",
            "Answer:\u001b[32;1m\u001b[1;3mThe price of the property located at 24 Hillbank is $192,900.\u001b[0m\n",
            "\u001b[1m> Finished chain.\u001b[0m\n"
          ]
        },
        {
          "output_type": "execute_result",
          "data": {
            "text/plain": [
              "'The price of the property located at 24 Hillbank is $192,900.'"
            ],
            "application/vnd.google.colaboratory.intrinsic+json": {
              "type": "string"
            }
          },
          "metadata": {},
          "execution_count": 6
        }
      ]
    },
    {
      "cell_type": "code",
      "source": [
        "query=\"Are pets allowed on the property?\"\n",
        "db_chain.run(query)"
      ],
      "metadata": {
        "colab": {
          "base_uri": "https://localhost:8080/",
          "height": 174
        },
        "id": "i-N5FtGGWbYZ",
        "outputId": "b5dd508a-2327-4267-9894-de9da1b673f8"
      },
      "execution_count": null,
      "outputs": [
        {
          "output_type": "stream",
          "name": "stdout",
          "text": [
            "\n",
            "\n",
            "\u001b[1m> Entering new  chain...\u001b[0m\n",
            "Are pets allowed on the property?\n",
            "SQLQuery:\u001b[32;1m\u001b[1;3mSELECT features FROM last_listings_new WHERE CURDATE() < listing_update_timestamp LIMIT 5;\u001b[0m\n",
            "SQLResult: \u001b[33;1m\u001b[1;3m[]\u001b[0m\n",
            "Answer:\u001b[32;1m\u001b[1;3mPets are not allowed on the property.\u001b[0m\n",
            "\u001b[1m> Finished chain.\u001b[0m\n"
          ]
        },
        {
          "output_type": "execute_result",
          "data": {
            "text/plain": [
              "'Pets are not allowed on the property.'"
            ],
            "application/vnd.google.colaboratory.intrinsic+json": {
              "type": "string"
            }
          },
          "metadata": {},
          "execution_count": 7
        }
      ]
    },
    {
      "cell_type": "markdown",
      "source": [
        "## Query with Prompt Template and Few Shot examples"
      ],
      "metadata": {
        "id": "g37OS2SwHDsr"
      }
    },
    {
      "cell_type": "code",
      "source": [
        "_DEFAULT_TEMPLATE = \"\"\"Given an input question, first create a syntactically correct {dialect} query to run,\n",
        "        then look at the results of the query and return the answer. Use the following format:\n",
        "\n",
        "        Question: \"Question here\"\n",
        "        SQLQuery: \"SQL Query to run\"\n",
        "        SQLResult: \"Result of the SQLQuery\"\n",
        "        Answer: \"Final answer here\"\n",
        "\n",
        "        Question: what is the price of 11 CHALFONT RD TORONTO, ON M9W3R9\n",
        "        SQLQuery: SELECT current_price FROM table_name WHERE match(unparsed_address) AGAINST('11 CHALFONT RD TORONTO, ON M9W3R9') AND addr_streetnum='11' and addr_cityname='TORONTO' and addr_pcode ='M9W3R9' and addr_strt_name = 'CHALFONT' LIMIT 5;\n",
        "        SQLResult: [(Decimal('324900.00000')]\n",
        "        Answer: The price of the property located at 11 CHALFONT RD TORONTO, ON M9W3R9 is $324900.00000.\n",
        "\n",
        "        Only use the following tables:\n",
        "        {table_info}\n",
        "\n",
        "        Question: {input}\"\"\"\n",
        "\n",
        "PROMPT = PromptTemplate(\n",
        "            input_variables=[\"input\", \"table_info\", \"dialect\"], template=_DEFAULT_TEMPLATE)\n",
        "db_chain = SQLDatabaseChain.from_llm(llm, db, prompt=PROMPT, verbose=True)\n",
        "db_chain.run(\"what is the price of 50 DANJOHN CRES TORONTO, ON M1V3N4\")"
      ],
      "metadata": {
        "colab": {
          "base_uri": "https://localhost:8080/",
          "height": 194
        },
        "id": "PzrFh5tKHM4o",
        "outputId": "b779951a-2904-4145-a6d6-0d168ceca942"
      },
      "execution_count": null,
      "outputs": [
        {
          "output_type": "stream",
          "name": "stdout",
          "text": [
            "\n",
            "\n",
            "\u001b[1m> Entering new  chain...\u001b[0m\n",
            "what is the price of 50 DANJOHN CRES TORONTO, ON M1V3N4\n",
            "SQLQuery:\u001b[32;1m\u001b[1;3mSELECT current_price FROM last_listings_new WHERE match(unparsed_address) AGAINST('50 DANJOHN CRES TORONTO, ON M1V3N4') AND addr_streetnum='50' and addr_cityname='TORONTO' and addr_pcode ='M1V3N4' and addr_strt_name = 'DANJOHN' LIMIT 5;\u001b[0m\n",
            "SQLResult: \u001b[33;1m\u001b[1;3m[(Decimal('369900.00000'),)]\u001b[0m\n",
            "Answer:\u001b[32;1m\u001b[1;3mThe price of the property located at 50 DANJOHN CRES TORONTO, ON M1V3N4 is $369900.00000.\u001b[0m\n",
            "\u001b[1m> Finished chain.\u001b[0m\n"
          ]
        },
        {
          "output_type": "execute_result",
          "data": {
            "text/plain": [
              "'The price of the property located at 50 DANJOHN CRES TORONTO, ON M1V3N4 is $369900.00000.'"
            ],
            "application/vnd.google.colaboratory.intrinsic+json": {
              "type": "string"
            }
          },
          "metadata": {},
          "execution_count": 8
        }
      ]
    },
    {
      "cell_type": "markdown",
      "source": [
        "## Query with Context"
      ],
      "metadata": {
        "id": "96_0a9W8G_mr"
      }
    },
    {
      "cell_type": "code",
      "source": [
        "class Conversation:\n",
        "    def __init__(self):\n",
        "        self.question_answers = []\n",
        "\n",
        "    def add_question_answer(self, question, answer):\n",
        "        self.question_answers.append((question, answer))\n",
        "        if len(self.question_answers) > 5:\n",
        "            self.question_answers = self.question_answers[-5:]\n",
        "\n",
        "    def get_last_question_answers(self):\n",
        "        return self.question_answers\n",
        "\n"
      ],
      "metadata": {
        "id": "3nNevm0832cD"
      },
      "execution_count": null,
      "outputs": []
    },
    {
      "cell_type": "code",
      "source": [
        "conversation = Conversation()"
      ],
      "metadata": {
        "id": "RRH4Tp604RBb"
      },
      "execution_count": null,
      "outputs": []
    },
    {
      "cell_type": "code",
      "source": [
        "def make_chat_conversation(conversation_tuples):\n",
        "    conversation_happened=''\n",
        "    for tuple in conversation_tuples:\n",
        "      Human, AI =tuple\n",
        "      Human_prompt= \"Human: \" + Human\n",
        "      AI_prompt= \"AI: \" + AI\n",
        "      conversation_happened=conversation_happened+ Human_prompt +\"\\n\" +AI_prompt\n",
        "      # print(Human_prompt)\n",
        "      # print(AI_prompt)\n",
        "    return conversation_happened\n",
        "\n",
        "def get_whole_conversation(question):\n",
        "    conversation_happened = make_chat_conversation(conversation.get_last_question_answers())\n",
        "    conversation_with_question = conversation_happened +\"\\n\" + \"Human: \" + question\n",
        "\n",
        "    response = db_chain.run(conversation_with_question)\n",
        "    conversation.add_question_answer(question, response)\n",
        "    last_question_answers = conversation.get_last_question_answers()\n",
        "    return response\n"
      ],
      "metadata": {
        "id": "LtbUWhHI35WC"
      },
      "execution_count": null,
      "outputs": []
    },
    {
      "cell_type": "code",
      "source": [
        "question=\"Tell me about the property located at 81 Craighurst Ave, Toronto, ON, M4R1K1?\"\n",
        "get_whole_conversation(question)"
      ],
      "metadata": {
        "colab": {
          "base_uri": "https://localhost:8080/",
          "height": 229
        },
        "id": "Qxo6qx9nFw_Q",
        "outputId": "5f68e45e-fb44-4e98-c531-26e3d4b6d3f5"
      },
      "execution_count": null,
      "outputs": [
        {
          "output_type": "stream",
          "name": "stdout",
          "text": [
            "\n",
            "\n",
            "\u001b[1m> Entering new  chain...\u001b[0m\n",
            "\n",
            "Human: Tell me about the property located at 81 Craighurst Ave, Toronto, ON, M4R1K1?\n",
            "SQLQuery:\u001b[32;1m\u001b[1;3mSELECT current_price, rooms_total, beds, baths, sqftbuilding, yearbuilt, prop_type, stories FROM last_listings_new WHERE match(unparsed_address) AGAINST('81 Craighurst Ave, Toronto, ON, M4R1K1') AND addr_streetnum='81' and addr_cityname='Toronto' and addr_pcode ='M4R1K1' and addr_strt_name = 'Craighurst' LIMIT 5;\u001b[0m\n",
            "SQLResult: \u001b[33;1m\u001b[1;3m[(Decimal('929900000.00000'), 8, 3, 2, None, 2023, 501, None)]\u001b[0m\n",
            "Answer:\u001b[32;1m\u001b[1;3mThe property located at 81 Craighurst Ave, Toronto, ON, M4R1K1 has a current price of $929900000.00000, 8 rooms, 3 beds, 2 baths, no sqftbuilding, yearbuilt 2023, prop_type 501, and no stories.\u001b[0m\n",
            "\u001b[1m> Finished chain.\u001b[0m\n"
          ]
        },
        {
          "output_type": "execute_result",
          "data": {
            "text/plain": [
              "'The property located at 81 Craighurst Ave, Toronto, ON, M4R1K1 has a current price of $929900000.00000, 8 rooms, 3 beds, 2 baths, no sqftbuilding, yearbuilt 2023, prop_type 501, and no stories.'"
            ],
            "application/vnd.google.colaboratory.intrinsic+json": {
              "type": "string"
            }
          },
          "metadata": {},
          "execution_count": 12
        }
      ]
    },
    {
      "cell_type": "code",
      "source": [
        "question=\"How long has the property been on the market?\"\n",
        "get_whole_conversation(question)"
      ],
      "metadata": {
        "colab": {
          "base_uri": "https://localhost:8080/",
          "height": 229
        },
        "id": "AifbfDY3FgAz",
        "outputId": "07160d2e-ed89-4464-a513-b43bb9b9f0c3"
      },
      "execution_count": null,
      "outputs": [
        {
          "output_type": "stream",
          "name": "stdout",
          "text": [
            "\n",
            "\n",
            "\u001b[1m> Entering new  chain...\u001b[0m\n",
            "Human: Tell me about the property located at 81 Craighurst Ave, Toronto, ON, M4R1K1?\n",
            "AI: The property located at 81 Craighurst Ave, Toronto, ON, M4R1K1 has a current price of $929900000.00000, 8 rooms, 3 beds, 2 baths, no sqftbuilding, yearbuilt 2023, prop_type 501, and no stories.\n",
            "Human: How long has the property been on the market?\n",
            "SQLQuery:\u001b[32;1m\u001b[1;3mSELECT listing_update_timestamp FROM last_listings_new WHERE match(unparsed_address) AGAINST('81 Craighurst Ave, Toronto, ON, M4R1K1') AND addr_streetnum='81' and addr_cityname='Toronto' and addr_pcode ='M4R1K1' and addr_strt_name = 'Craighurst' LIMIT 5;\u001b[0m\n",
            "SQLResult: \u001b[33;1m\u001b[1;3m[(datetime.datetime(2017, 8, 10, 12, 7, 20),)]\u001b[0m\n",
            "Answer:\u001b[32;1m\u001b[1;3mThe property located at 81 Craighurst Ave, Toronto, ON, M4R1K1 has been on the market since August 10, 2017.\u001b[0m\n",
            "\u001b[1m> Finished chain.\u001b[0m\n"
          ]
        },
        {
          "output_type": "execute_result",
          "data": {
            "text/plain": [
              "'The property located at 81 Craighurst Ave, Toronto, ON, M4R1K1 has been on the market since August 10, 2017.'"
            ],
            "application/vnd.google.colaboratory.intrinsic+json": {
              "type": "string"
            }
          },
          "metadata": {},
          "execution_count": 13
        }
      ]
    },
    {
      "cell_type": "code",
      "source": [
        "question=\"Is there a yard or outdoor space in this property?\"\n",
        "get_whole_conversation(question)"
      ],
      "metadata": {
        "id": "WJ2RR-orF4YN",
        "colab": {
          "base_uri": "https://localhost:8080/",
          "height": 246
        },
        "outputId": "98ac6f07-5764-4d9d-97e3-a218e8e56752"
      },
      "execution_count": null,
      "outputs": [
        {
          "output_type": "stream",
          "name": "stdout",
          "text": [
            "\n",
            "\n",
            "\u001b[1m> Entering new  chain...\u001b[0m\n",
            "Human: Tell me about the property located at 81 Craighurst Ave, Toronto, ON, M4R1K1?\n",
            "AI: The property located at 81 Craighurst Ave, Toronto, ON, M4R1K1 has a current price of $929900000.00000, 8 rooms, 3 beds, 2 baths, no sqftbuilding, yearbuilt 2023, prop_type 501, and no stories.Human: How long has the property been on the market?\n",
            "AI: The property located at 81 Craighurst Ave, Toronto, ON, M4R1K1 has been on the market since August 10, 2017.\n",
            "Human: Is there a yard or outdoor space in this property?\n",
            "SQLQuery:\u001b[32;1m\u001b[1;3mSELECT features FROM last_listings_new WHERE match(unparsed_address) AGAINST('81 Craighurst Ave, Toronto, ON, M4R1K1') AND addr_streetnum='81' and addr_cityname='TORONTO' and addr_pcode ='M4R1K1' and addr_strt_name = 'CRAIGHURST' LIMIT 5;\u001b[0m\n",
            "SQLResult: \u001b[33;1m\u001b[1;3m[(None,)]\u001b[0m\n",
            "Answer:\u001b[32;1m\u001b[1;3mThere is no yard or outdoor space in the property located at 81 Craighurst Ave, Toronto, ON, M4R1K1.\u001b[0m\n",
            "\u001b[1m> Finished chain.\u001b[0m\n"
          ]
        },
        {
          "output_type": "execute_result",
          "data": {
            "text/plain": [
              "'There is no yard or outdoor space in the property located at 81 Craighurst Ave, Toronto, ON, M4R1K1.'"
            ],
            "application/vnd.google.colaboratory.intrinsic+json": {
              "type": "string"
            }
          },
          "metadata": {},
          "execution_count": 14
        }
      ]
    }
  ]
}